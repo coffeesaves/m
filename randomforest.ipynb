{
 "cells": [
  {
   "cell_type": "code",
   "execution_count": 10,
   "id": "fc67dbe9-b52c-40f5-9af5-5654ecdcfd3b",
   "metadata": {},
   "outputs": [],
   "source": [
    "import numpy as np \n",
    "import seaborn as sns\n",
    "import matplotlib.pyplot as plt \n",
    "import pandas as pd \n",
    "from sklearn.linear_model import LinearRegression, Lasso, Ridge\n",
    "from sklearn.metrics import mean_squared_error , r2_score, confusion_matrix, precision_score, recall_score, f1_score, roc_auc_score, roc_curve, accuracy_score, classification_report\n",
    "from sklearn.model_selection import train_test_split\n",
    "from sklearn.preprocessing import LabelEncoder, StandardScaler\n",
    "from sklearn.naive_bayes import GaussianNB\n",
    "from sklearn.tree import DecisionTreeRegressor, DecisionTreeClassifier\n",
    "from sklearn.ensemble import RandomForestClassifier \n",
    "import math"
   ]
  },
  {
   "cell_type": "code",
   "execution_count": 6,
   "id": "8e08e2d1-d88d-446a-8127-1ff205740e6b",
   "metadata": {},
   "outputs": [],
   "source": [
    "\n",
    "data2 = pd.read_csv('Breast_cancer_data.csv')\n",
    "X2 = data2.drop('diagnosis', axis=1)\n",
    "y2 = data2['diagnosis']"
   ]
  },
  {
   "cell_type": "code",
   "execution_count": 7,
   "id": "93819aa0-fefd-46c8-a9c3-6e6296bf4429",
   "metadata": {},
   "outputs": [],
   "source": [
    "X_train2, X_test2, y_train2, y_test2 = train_test_split(X2, y2, test_size=0.2, random_state=42)"
   ]
  },
  {
   "cell_type": "code",
   "execution_count": 8,
   "id": "fc847aae-00a3-4d73-afbf-0b6cf0b84c83",
   "metadata": {},
   "outputs": [
    {
     "name": "stdout",
     "output_type": "stream",
     "text": [
      "Accuracy without Feature Selection on Dataset 2: 0.9473684210526315\n"
     ]
    }
   ],
   "source": [
    "#Build Random Forest Classifier without Feature Selection\n",
    "clf2 = RandomForestClassifier(n_estimators=100, random_state=42)\n",
    "clf2.fit(X_train2, y_train2)\n",
    "y_pred2 = clf2.predict(X_test2)\n",
    "\n",
    "# Calculate Accuracy\n",
    "acc_no_selection2 = accuracy_score(y_test2, y_pred2)\n",
    "print(\"Accuracy without Feature Selection on Dataset 2:\", acc_no_selection2)"
   ]
  },
  {
   "cell_type": "code",
   "execution_count": 13,
   "id": "32405e5e-aceb-436c-8204-76ae2372df29",
   "metadata": {},
   "outputs": [
    {
     "name": "stdout",
     "output_type": "stream",
     "text": [
      "Accuracy with Feature Selection on Dataset 2: 0.8771929824561403\n"
     ]
    }
   ],
   "source": [
    "# Perform Feature Selection\n",
    "feature_imp2 = pd.Series(clf2.feature_importances_, index=X2.columns).sort_values(ascending=False)\n",
    "selected_features2 = feature_imp2[feature_imp2 > 0.2].index  # Example threshold for selection\n",
    "\n",
    "# Build Random Forest Classifier with Feature Selection\n",
    "clf_selected2 = RandomForestClassifier(n_estimators=100, random_state=42)\n",
    "clf_selected2.fit(X_train2[selected_features2], y_train2)\n",
    "y_pred_selected2 = clf_selected2.predict(X_test2[selected_features2])\n",
    "\n",
    "# Calculate Accuracy\n",
    "acc_with_selection2 = accuracy_score(y_test2, y_pred_selected2)\n",
    "print(\"Accuracy with Feature Selection on Dataset 2:\", acc_with_selection2)"
   ]
  },
  {
   "cell_type": "code",
   "execution_count": 14,
   "id": "d07bd26b-b5e2-4023-969b-95cfbdc08d93",
   "metadata": {},
   "outputs": [
    {
     "data": {
      "text/plain": [
       "<Axes: >"
      ]
     },
     "execution_count": 14,
     "metadata": {},
     "output_type": "execute_result"
    },
    {
     "data": {
      "image/png": "[encoded data removed]",
      "text/plain": [
       "<Figure size 640x480 with 1 Axes>"
      ]
     },
     "metadata": {},
     "output_type": "display_data"
    }
   ],
   "source": [
    "sns.barplot(x=feature_imp2, y=feature_imp2.index)"
   ]
  },
  {
   "cell_type": "code",
   "execution_count": null,
   "id": "f211fc04-edf9-4b3d-b363-e2d54ce6f541",
   "metadata": {},
   "outputs": [],
   "source": []
  }
 ],
 "metadata": {
  "kernelspec": {
   "display_name": "Python 3 (ipykernel)",
   "language": "python",
   "name": "python3"
  },
  "language_info": {
   "codemirror_mode": {
    "name": "ipython",
    "version": 3
   },
   "file_extension": ".py",
   "mimetype": "text/x-python",
   "name": "python",
   "nbconvert_exporter": "python",
   "pygments_lexer": "ipython3",
   "version": "3.11.7"
  }
 },
 "nbformat": 4,
 "nbformat_minor": 5
}
