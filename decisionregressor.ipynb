{
 "cells": [
  {
   "cell_type": "markdown",
   "metadata": {
    "id": "8N-afEjGCjMJ"
   },
   "source": [
    "# **Implement Decision tree classifier from scratch using Dataset 1**"
   ]
  },
  {
   "cell_type": "markdown",
   "metadata": {
    "id": "9r_vzhXjjsmt",
    "jp-MarkdownHeadingCollapsed": true
   },
   "source": [
    "## **Importing dataset**"
   ]
  },
  {
   "cell_type": "code",
   "execution_count": 2,
   "metadata": {
    "id": "fGDNrFKcGbZQ"
   },
   "outputs": [],
   "source": [
    "import pandas as pd"
   ]
  },
  {
   "cell_type": "code",
   "execution_count": 3,
   "metadata": {
    "colab": {
     "base_uri": "https://localhost:8080/",
     "height": 488
    },
    "id": "ySnfVnnmGrhK",
    "outputId": "34e6cf97-67b5-43bb-e499-3af2a8d809de"
   },
   "outputs": [
    {
     "ename": "FileNotFoundError",
     "evalue": "[Errno 2] No such file or directory: '/content/play_tennis.csv'",
     "output_type": "error",
     "traceback": [
      "\u001b[0;31m---------------------------------------------------------------------------\u001b[0m",
      "\u001b[0;31mFileNotFoundError\u001b[0m                         Traceback (most recent call last)",
      "Cell \u001b[0;32mIn[3], line 1\u001b[0m\n\u001b[0;32m----> 1\u001b[0m df \u001b[38;5;241m=\u001b[39m pd\u001b[38;5;241m.\u001b[39mread_csv(\u001b[38;5;124m'\u001b[39m\u001b[38;5;124m/content/play_tennis.csv\u001b[39m\u001b[38;5;124m'\u001b[39m)\n\u001b[1;32m      2\u001b[0m df\n",
      "File \u001b[0;32m/opt/anaconda3/lib/python3.11/site-packages/pandas/io/parsers/readers.py:948\u001b[0m, in \u001b[0;36mread_csv\u001b[0;34m(filepath_or_buffer, sep, delimiter, header, names, index_col, usecols, dtype, engine, converters, true_values, false_values, skipinitialspace, skiprows, skipfooter, nrows, na_values, keep_default_na, na_filter, verbose, skip_blank_lines, parse_dates, infer_datetime_format, keep_date_col, date_parser, date_format, dayfirst, cache_dates, iterator, chunksize, compression, thousands, decimal, lineterminator, quotechar, quoting, doublequote, escapechar, comment, encoding, encoding_errors, dialect, on_bad_lines, delim_whitespace, low_memory, memory_map, float_precision, storage_options, dtype_backend)\u001b[0m\n\u001b[1;32m    935\u001b[0m kwds_defaults \u001b[38;5;241m=\u001b[39m _refine_defaults_read(\n\u001b[1;32m    936\u001b[0m     dialect,\n\u001b[1;32m    937\u001b[0m     delimiter,\n\u001b[0;32m   (...)\u001b[0m\n\u001b[1;32m    944\u001b[0m     dtype_backend\u001b[38;5;241m=\u001b[39mdtype_backend,\n\u001b[1;32m    945\u001b[0m )\n\u001b[1;32m    946\u001b[0m kwds\u001b[38;5;241m.\u001b[39mupdate(kwds_defaults)\n\u001b[0;32m--> 948\u001b[0m \u001b[38;5;28;01mreturn\u001b[39;00m _read(filepath_or_buffer, kwds)\n",
      "File \u001b[0;32m/opt/anaconda3/lib/python3.11/site-packages/pandas/io/parsers/readers.py:611\u001b[0m, in \u001b[0;36m_read\u001b[0;34m(filepath_or_buffer, kwds)\u001b[0m\n\u001b[1;32m    608\u001b[0m _validate_names(kwds\u001b[38;5;241m.\u001b[39mget(\u001b[38;5;124m\"\u001b[39m\u001b[38;5;124mnames\u001b[39m\u001b[38;5;124m\"\u001b[39m, \u001b[38;5;28;01mNone\u001b[39;00m))\n\u001b[1;32m    610\u001b[0m \u001b[38;5;66;03m# Create the parser.\u001b[39;00m\n\u001b[0;32m--> 611\u001b[0m parser \u001b[38;5;241m=\u001b[39m TextFileReader(filepath_or_buffer, \u001b[38;5;241m*\u001b[39m\u001b[38;5;241m*\u001b[39mkwds)\n\u001b[1;32m    613\u001b[0m \u001b[38;5;28;01mif\u001b[39;00m chunksize \u001b[38;5;129;01mor\u001b[39;00m iterator:\n\u001b[1;32m    614\u001b[0m     \u001b[38;5;28;01mreturn\u001b[39;00m parser\n",
      "File \u001b[0;32m/opt/anaconda3/lib/python3.11/site-packages/pandas/io/parsers/readers.py:1448\u001b[0m, in \u001b[0;36mTextFileReader.__init__\u001b[0;34m(self, f, engine, **kwds)\u001b[0m\n\u001b[1;32m   1445\u001b[0m     \u001b[38;5;28mself\u001b[39m\u001b[38;5;241m.\u001b[39moptions[\u001b[38;5;124m\"\u001b[39m\u001b[38;5;124mhas_index_names\u001b[39m\u001b[38;5;124m\"\u001b[39m] \u001b[38;5;241m=\u001b[39m kwds[\u001b[38;5;124m\"\u001b[39m\u001b[38;5;124mhas_index_names\u001b[39m\u001b[38;5;124m\"\u001b[39m]\n\u001b[1;32m   1447\u001b[0m \u001b[38;5;28mself\u001b[39m\u001b[38;5;241m.\u001b[39mhandles: IOHandles \u001b[38;5;241m|\u001b[39m \u001b[38;5;28;01mNone\u001b[39;00m \u001b[38;5;241m=\u001b[39m \u001b[38;5;28;01mNone\u001b[39;00m\n\u001b[0;32m-> 1448\u001b[0m \u001b[38;5;28mself\u001b[39m\u001b[38;5;241m.\u001b[39m_engine \u001b[38;5;241m=\u001b[39m \u001b[38;5;28mself\u001b[39m\u001b[38;5;241m.\u001b[39m_make_engine(f, \u001b[38;5;28mself\u001b[39m\u001b[38;5;241m.\u001b[39mengine)\n",
      "File \u001b[0;32m/opt/anaconda3/lib/python3.11/site-packages/pandas/io/parsers/readers.py:1705\u001b[0m, in \u001b[0;36mTextFileReader._make_engine\u001b[0;34m(self, f, engine)\u001b[0m\n\u001b[1;32m   1703\u001b[0m     \u001b[38;5;28;01mif\u001b[39;00m \u001b[38;5;124m\"\u001b[39m\u001b[38;5;124mb\u001b[39m\u001b[38;5;124m\"\u001b[39m \u001b[38;5;129;01mnot\u001b[39;00m \u001b[38;5;129;01min\u001b[39;00m mode:\n\u001b[1;32m   1704\u001b[0m         mode \u001b[38;5;241m+\u001b[39m\u001b[38;5;241m=\u001b[39m \u001b[38;5;124m\"\u001b[39m\u001b[38;5;124mb\u001b[39m\u001b[38;5;124m\"\u001b[39m\n\u001b[0;32m-> 1705\u001b[0m \u001b[38;5;28mself\u001b[39m\u001b[38;5;241m.\u001b[39mhandles \u001b[38;5;241m=\u001b[39m get_handle(\n\u001b[1;32m   1706\u001b[0m     f,\n\u001b[1;32m   1707\u001b[0m     mode,\n\u001b[1;32m   1708\u001b[0m     encoding\u001b[38;5;241m=\u001b[39m\u001b[38;5;28mself\u001b[39m\u001b[38;5;241m.\u001b[39moptions\u001b[38;5;241m.\u001b[39mget(\u001b[38;5;124m\"\u001b[39m\u001b[38;5;124mencoding\u001b[39m\u001b[38;5;124m\"\u001b[39m, \u001b[38;5;28;01mNone\u001b[39;00m),\n\u001b[1;32m   1709\u001b[0m     compression\u001b[38;5;241m=\u001b[39m\u001b[38;5;28mself\u001b[39m\u001b[38;5;241m.\u001b[39moptions\u001b[38;5;241m.\u001b[39mget(\u001b[38;5;124m\"\u001b[39m\u001b[38;5;124mcompression\u001b[39m\u001b[38;5;124m\"\u001b[39m, \u001b[38;5;28;01mNone\u001b[39;00m),\n\u001b[1;32m   1710\u001b[0m     memory_map\u001b[38;5;241m=\u001b[39m\u001b[38;5;28mself\u001b[39m\u001b[38;5;241m.\u001b[39moptions\u001b[38;5;241m.\u001b[39mget(\u001b[38;5;124m\"\u001b[39m\u001b[38;5;124mmemory_map\u001b[39m\u001b[38;5;124m\"\u001b[39m, \u001b[38;5;28;01mFalse\u001b[39;00m),\n\u001b[1;32m   1711\u001b[0m     is_text\u001b[38;5;241m=\u001b[39mis_text,\n\u001b[1;32m   1712\u001b[0m     errors\u001b[38;5;241m=\u001b[39m\u001b[38;5;28mself\u001b[39m\u001b[38;5;241m.\u001b[39moptions\u001b[38;5;241m.\u001b[39mget(\u001b[38;5;124m\"\u001b[39m\u001b[38;5;124mencoding_errors\u001b[39m\u001b[38;5;124m\"\u001b[39m, \u001b[38;5;124m\"\u001b[39m\u001b[38;5;124mstrict\u001b[39m\u001b[38;5;124m\"\u001b[39m),\n\u001b[1;32m   1713\u001b[0m     storage_options\u001b[38;5;241m=\u001b[39m\u001b[38;5;28mself\u001b[39m\u001b[38;5;241m.\u001b[39moptions\u001b[38;5;241m.\u001b[39mget(\u001b[38;5;124m\"\u001b[39m\u001b[38;5;124mstorage_options\u001b[39m\u001b[38;5;124m\"\u001b[39m, \u001b[38;5;28;01mNone\u001b[39;00m),\n\u001b[1;32m   1714\u001b[0m )\n\u001b[1;32m   1715\u001b[0m \u001b[38;5;28;01massert\u001b[39;00m \u001b[38;5;28mself\u001b[39m\u001b[38;5;241m.\u001b[39mhandles \u001b[38;5;129;01mis\u001b[39;00m \u001b[38;5;129;01mnot\u001b[39;00m \u001b[38;5;28;01mNone\u001b[39;00m\n\u001b[1;32m   1716\u001b[0m f \u001b[38;5;241m=\u001b[39m \u001b[38;5;28mself\u001b[39m\u001b[38;5;241m.\u001b[39mhandles\u001b[38;5;241m.\u001b[39mhandle\n",
      "File \u001b[0;32m/opt/anaconda3/lib/python3.11/site-packages/pandas/io/common.py:863\u001b[0m, in \u001b[0;36mget_handle\u001b[0;34m(path_or_buf, mode, encoding, compression, memory_map, is_text, errors, storage_options)\u001b[0m\n\u001b[1;32m    858\u001b[0m \u001b[38;5;28;01melif\u001b[39;00m \u001b[38;5;28misinstance\u001b[39m(handle, \u001b[38;5;28mstr\u001b[39m):\n\u001b[1;32m    859\u001b[0m     \u001b[38;5;66;03m# Check whether the filename is to be opened in binary mode.\u001b[39;00m\n\u001b[1;32m    860\u001b[0m     \u001b[38;5;66;03m# Binary mode does not support 'encoding' and 'newline'.\u001b[39;00m\n\u001b[1;32m    861\u001b[0m     \u001b[38;5;28;01mif\u001b[39;00m ioargs\u001b[38;5;241m.\u001b[39mencoding \u001b[38;5;129;01mand\u001b[39;00m \u001b[38;5;124m\"\u001b[39m\u001b[38;5;124mb\u001b[39m\u001b[38;5;124m\"\u001b[39m \u001b[38;5;129;01mnot\u001b[39;00m \u001b[38;5;129;01min\u001b[39;00m ioargs\u001b[38;5;241m.\u001b[39mmode:\n\u001b[1;32m    862\u001b[0m         \u001b[38;5;66;03m# Encoding\u001b[39;00m\n\u001b[0;32m--> 863\u001b[0m         handle \u001b[38;5;241m=\u001b[39m \u001b[38;5;28mopen\u001b[39m(\n\u001b[1;32m    864\u001b[0m             handle,\n\u001b[1;32m    865\u001b[0m             ioargs\u001b[38;5;241m.\u001b[39mmode,\n\u001b[1;32m    866\u001b[0m             encoding\u001b[38;5;241m=\u001b[39mioargs\u001b[38;5;241m.\u001b[39mencoding,\n\u001b[1;32m    867\u001b[0m             errors\u001b[38;5;241m=\u001b[39merrors,\n\u001b[1;32m    868\u001b[0m             newline\u001b[38;5;241m=\u001b[39m\u001b[38;5;124m\"\u001b[39m\u001b[38;5;124m\"\u001b[39m,\n\u001b[1;32m    869\u001b[0m         )\n\u001b[1;32m    870\u001b[0m     \u001b[38;5;28;01melse\u001b[39;00m:\n\u001b[1;32m    871\u001b[0m         \u001b[38;5;66;03m# Binary mode\u001b[39;00m\n\u001b[1;32m    872\u001b[0m         handle \u001b[38;5;241m=\u001b[39m \u001b[38;5;28mopen\u001b[39m(handle, ioargs\u001b[38;5;241m.\u001b[39mmode)\n",
      "\u001b[0;31mFileNotFoundError\u001b[0m: [Errno 2] No such file or directory: '/content/play_tennis.csv'"
     ]
    }
   ],
   "source": [
    "df = pd.read_csv('/content/play_tennis.csv')\n",
    "df"
   ]
  },
  {
   "cell_type": "markdown",
   "metadata": {
    "id": "pnV9Ebxbj0sC",
    "jp-MarkdownHeadingCollapsed": true
   },
   "source": [
    "## **Entropy function**"
   ]
  },
  {
   "cell_type": "code",
   "execution_count": null,
   "metadata": {
    "id": "dNFahRC7Hx7q"
   },
   "outputs": [],
   "source": [
    "from math import log\n",
    "def entropy(a_l):\n",
    "    lst = list(a_l)\n",
    "    size = len(lst)\n",
    "    entropy_val = 0\n",
    "    unique_elements = len(set(lst))\n",
    "    if unique_elements in [0, 1]:\n",
    "        return 0\n",
    "    for i in set(lst):\n",
    "        occ = lst.count(i)\n",
    "        entropy_val -= occ / size * log(occ / size, 2)\n",
    "    return entropy_val"
   ]
  },
  {
   "cell_type": "code",
   "execution_count": null,
   "metadata": {
    "id": "FNxm_mCgMxlX"
   },
   "outputs": [],
   "source": [
    "y = df['play']\n",
    "X = df.drop(columns=['play', 'day'])\n",
    "feature_names = X.columns"
   ]
  },
  {
   "cell_type": "code",
   "execution_count": null,
   "metadata": {
    "colab": {
     "base_uri": "https://localhost:8080/",
     "height": 0
    },
    "id": "G_tEFJ9QHStA",
    "outputId": "b87016c0-d010-4387-deb0-f420a47c251b"
   },
   "outputs": [],
   "source": [
    "y_entropy = entropy(y)\n",
    "print(y_entropy)"
   ]
  },
  {
   "cell_type": "markdown",
   "metadata": {
    "id": "YoYx--2bj8jm",
    "jp-MarkdownHeadingCollapsed": true
   },
   "source": [
    "## **Information Gain**"
   ]
  },
  {
   "cell_type": "code",
   "execution_count": null,
   "metadata": {
    "id": "ue5vFXPgQw_Y"
   },
   "outputs": [],
   "source": [
    "def gain(root, left, right):\n",
    "    return (\n",
    "        entropy(root)\n",
    "        - 1.0 * len(left) / len(root) * entropy(left)\n",
    "        - 1.0 * len(right) / len(root) * entropy(right)\n",
    "    )"
   ]
  },
  {
   "cell_type": "code",
   "execution_count": null,
   "metadata": {
    "id": "KtVFToJ7Qw_Z"
   },
   "outputs": [],
   "source": [
    "def information_gains(X, y):\n",
    "    out = []\n",
    "    for column in X.columns:\n",
    "        unique_values = X[column].unique()\n",
    "        total_entropy = entropy(y)\n",
    "        gain_value = total_entropy  # Initialize gain_value with total entropy\n",
    "        for val in unique_values:\n",
    "            subset = y[X[column] == val]\n",
    "            gain_value -= (len(subset) / len(y)) * entropy(subset)  # Weighted subtraction of entropies\n",
    "        out.append((column, gain_value))\n",
    "    return out\n"
   ]
  },
  {
   "cell_type": "code",
   "execution_count": null,
   "metadata": {
    "colab": {
     "base_uri": "https://localhost:8080/",
     "height": 0
    },
    "id": "NKXGwvYgyZMF",
    "outputId": "b9738ca4-f705-451c-e65e-5f1e91947320"
   },
   "outputs": [],
   "source": [
    "results = information_gains(X, y)\n",
    "for feature, gain_value in results:\n",
    "    print(f\"Feature: {feature}, Information Gain: {gain_value}\")"
   ]
  },
  {
   "cell_type": "markdown",
   "metadata": {
    "id": "x4zGEWc5kCfQ",
    "jp-MarkdownHeadingCollapsed": true
   },
   "source": [
    "## **Creating the tree**"
   ]
  },
  {
   "cell_type": "code",
   "execution_count": null,
   "metadata": {
    "colab": {
     "base_uri": "https://localhost:8080/",
     "height": 0
    },
    "id": "TPGDyImu0RUj",
    "outputId": "11c9ed54-1e7d-40c1-974b-954847550494"
   },
   "outputs": [],
   "source": [
    "def btree(X, y, feature_names):\n",
    "    clf = information_gains(X, y)\n",
    "    best_feature, _ = max(clf, key=lambda x: x[1])\n",
    "    print(f\"Best feature to split: {best_feature}\")\n",
    "\n",
    "    unique_values = X[best_feature].unique()\n",
    "    for val in unique_values:\n",
    "        x_subset = X[X[best_feature] == val]\n",
    "        y_subset = y[X[best_feature] == val]\n",
    "        print(f\"Samples for {best_feature}={val}: {len(x_subset)}\")\n",
    "        print(f\"Class label distribution for {best_feature}={val}: {y_subset.value_counts().to_dict()}\")\n",
    "\n",
    "        entropy_val = entropy(y_subset)\n",
    "        print(f\"Entropy for {best_feature}={val}: {entropy_val}\")\n",
    "\n",
    "        if entropy_val != 0:\n",
    "            print(f\"Splitting the group with {len(x_subset)} samples:\")\n",
    "            btree(x_subset, y_subset, feature_names)\n",
    "        print(\"_\" * 30 + \"\\n\")\n",
    "btree(X, y, feature_names)"
   ]
  },
  {
   "cell_type": "markdown",
   "metadata": {
    "id": "lschyY4WC5ID",
    "jp-MarkdownHeadingCollapsed": true
   },
   "source": [
    "# **Using python libraries to build a decision tree classifier on Dataset 2 and analyzing the results using confusion matrix and accuracy.**"
   ]
  },
  {
   "cell_type": "markdown",
   "metadata": {
    "id": "8ekmdtOrEbp6"
   },
   "source": [
    "## **Importing the libraries and dataset**"
   ]
  },
  {
   "cell_type": "code",
   "execution_count": null,
   "metadata": {
    "id": "gcwUKpY4DhD-"
   },
   "outputs": [],
   "source": [
    "# Importing necessary libraries\n",
    "import pandas as pd\n",
    "from sklearn.model_selection import train_test_split\n",
    "from sklearn.tree import DecisionTreeClassifier\n",
    "from sklearn.metrics import confusion_matrix, accuracy_score\n",
    "import sklearn.metrics\n",
    "from sklearn.tree import plot_tree\n",
    "import matplotlib.pyplot as plt"
   ]
  },
  {
   "cell_type": "code",
   "execution_count": null,
   "metadata": {
    "colab": {
     "base_uri": "https://localhost:8080/",
     "height": 206
    },
    "id": "m9FQYkZvBiWS",
    "outputId": "4294fd25-f14e-4f5c-bbce-083efe222f20"
   },
   "outputs": [],
   "source": [
    "df1 = pd.read_csv('/content/Iris.csv')\n",
    "df1.head()"
   ]
  },
  {
   "cell_type": "markdown",
   "metadata": {
    "id": "6TPwIc1hEmVb"
   },
   "source": [
    "## **Splitting the dataset**"
   ]
  },
  {
   "cell_type": "code",
   "execution_count": null,
   "metadata": {
    "id": "zS7Q65nUDWad"
   },
   "outputs": [],
   "source": [
    "# Splitting the dataset into features and target variable\n",
    "X = df1.drop('Species', axis=1)\n",
    "y = df1['Species']"
   ]
  },
  {
   "cell_type": "code",
   "execution_count": null,
   "metadata": {
    "id": "lCm_Ee5RDmo9"
   },
   "outputs": [],
   "source": [
    "# Splitting the dataset into training and testing sets\n",
    "X_train, X_test, y_train, y_test = train_test_split(X, y, test_size=0.2, random_state=42)"
   ]
  },
  {
   "cell_type": "markdown",
   "metadata": {
    "id": "26m0OznNEueb"
   },
   "source": [
    "## **Creating a classifier**"
   ]
  },
  {
   "cell_type": "code",
   "execution_count": null,
   "metadata": {
    "colab": {
     "base_uri": "https://localhost:8080/",
     "height": 74
    },
    "id": "KXCJpqaCDpCj",
    "outputId": "32b94cb6-5fd0-4403-c449-ee79c015fe40"
   },
   "outputs": [],
   "source": [
    "# Creating a decision tree classifier\n",
    "clf_gini = DecisionTreeClassifier(criterion='gini')\n",
    "clf_entropy = DecisionTreeClassifier(criterion='entropy')\n",
    "clf_gini.fit(X_train, y_train)\n",
    "clf_entropy.fit(X_train, y_train)"
   ]
  },
  {
   "cell_type": "markdown",
   "metadata": {
    "id": "nuvsQh8GE0AR"
   },
   "source": [
    "## **Evaluation**"
   ]
  },
  {
   "cell_type": "code",
   "execution_count": null,
   "metadata": {
    "id": "fsc4uAZ3DupF"
   },
   "outputs": [],
   "source": [
    "# Making predictions\n",
    "y_pred_gini = clf_gini.predict(X_test)\n",
    "y_pred_entropy = clf_entropy.predict(X_test)"
   ]
  },
  {
   "cell_type": "code",
   "execution_count": null,
   "metadata": {
    "colab": {
     "base_uri": "https://localhost:8080/",
     "height": 0
    },
    "id": "c_B1FVV5DycY",
    "outputId": "6f762402-1ea5-4e98-bfee-009443b65b97"
   },
   "outputs": [],
   "source": [
    "# Calculating and printing the confusion matrix and classification report for Gini\n",
    "print(\"Decision Tree - Gini\")\n",
    "cm_gini = confusion_matrix(y_test, y_pred_gini)\n",
    "print(\"\\nConfusion Matrix:\")\n",
    "print(cm_gini)\n",
    "print(\"\\nClassification Report:\")\n",
    "print(sklearn.metrics.classification_report(y_test, y_pred_gini))"
   ]
  },
  {
   "cell_type": "code",
   "execution_count": null,
   "metadata": {
    "colab": {
     "base_uri": "https://localhost:8080/",
     "height": 0
    },
    "id": "aOuO4KonD0MT",
    "outputId": "6164eb0f-7c5d-4959-d4a4-4f0611c2c742"
   },
   "outputs": [],
   "source": [
    "# Calculating and printing the confusion matrix and classification report for Entropy\n",
    "print(\"\\nDecision Tree - Entropy\")\n",
    "cm_entropy = confusion_matrix(y_test, y_pred_entropy)\n",
    "print(\"\\nConfusion Matrix:\")\n",
    "print(cm_entropy)\n",
    "print(\"\\nClassification Report:\")\n",
    "print(sklearn.metrics.classification_report(y_test, y_pred_entropy))"
   ]
  },
  {
   "cell_type": "markdown",
   "metadata": {
    "id": "3MG6p_3eE6BD"
   },
   "source": [
    "## **Plotting the tree**"
   ]
  },
  {
   "cell_type": "code",
   "execution_count": null,
   "metadata": {
    "colab": {
     "base_uri": "https://localhost:8080/",
     "height": 0
    },
    "id": "IhV0gMWkKbVQ",
    "outputId": "836daaaa-f1e2-406a-bdb7-9edf43fbade1"
   },
   "outputs": [],
   "source": [
    "pip install graphviz"
   ]
  },
  {
   "cell_type": "code",
   "execution_count": null,
   "metadata": {
    "colab": {
     "base_uri": "https://localhost:8080/",
     "height": 0
    },
    "id": "Jmxt-voBKg-g",
    "outputId": "06b15691-fd25-4cda-b739-aa1143d37de6"
   },
   "outputs": [],
   "source": [
    "pip install pydotplus"
   ]
  },
  {
   "cell_type": "code",
   "execution_count": null,
   "metadata": {
    "id": "SIwpvfUu74ZY"
   },
   "outputs": [],
   "source": [
    "import six\n",
    "import sys\n",
    "sys.modules['sklearn.externals.six'] = six"
   ]
  },
  {
   "cell_type": "code",
   "execution_count": null,
   "metadata": {
    "colab": {
     "base_uri": "https://localhost:8080/",
     "height": 422
    },
    "id": "MfbDZaYuFi8T",
    "outputId": "fed28c87-7925-43f0-f388-5854dbe5ef94"
   },
   "outputs": [],
   "source": [
    "# Export the decision tree for clf_gini\n",
    "from sklearn.tree import export_graphviz\n",
    "from IPython.display import Image\n",
    "import pydotplus\n",
    "from sklearn.externals.six import StringIO\n",
    "dot_data_gini=StringIO()\n",
    "export_graphviz(clf_gini, out_file=dot_data_gini, filled=True,\n",
    "                rounded=True, special_characters=True, class_names=['Iris-sentosa','Iris-virginica','Iris-versicolor'])\n",
    "graph_gini = pydotplus.graph_from_dot_data(dot_data_gini.getvalue())\n",
    "graph_gini.write_png('iris_gini.png')\n",
    "Image(graph_gini.create_png())"
   ]
  },
  {
   "cell_type": "code",
   "execution_count": null,
   "metadata": {
    "colab": {
     "base_uri": "https://localhost:8080/",
     "height": 422
    },
    "id": "5XVy4_LU8Qyd",
    "outputId": "cc7e0097-1168-4f78-c667-91fc1963dfca"
   },
   "outputs": [],
   "source": [
    "# Export the decision tree for clf_entropy\n",
    "from sklearn.tree import export_graphviz\n",
    "from IPython.display import Image\n",
    "import pydotplus\n",
    "from sklearn.externals.six import StringIO\n",
    "dot_data_entropy = StringIO()\n",
    "export_graphviz(clf_entropy, out_file=dot_data_entropy, filled=True,\n",
    "                rounded=True, special_characters=True, class_names=['Iris-sentosa','Iris-virginica','Iris-versicolor'])\n",
    "graph_entropy = pydotplus.graph_from_dot_data(dot_data_entropy.getvalue())\n",
    "graph_entropy.write_png('iris_entropy.png')\n",
    "Image(graph_entropy.create_png())"
   ]
  },
  {
   "cell_type": "markdown",
   "metadata": {
    "id": "84ZD1XGWF-bi",
    "jp-MarkdownHeadingCollapsed": true
   },
   "source": [
    "# **Writing a code to show overfitting in the decision tree classifier using sklearn and matplotlib**"
   ]
  },
  {
   "cell_type": "markdown",
   "metadata": {
    "id": "94tlyItWLZdu",
    "jp-MarkdownHeadingCollapsed": true
   },
   "source": [
    "## **Making a Synthetic Dataset**"
   ]
  },
  {
   "cell_type": "code",
   "execution_count": null,
   "metadata": {
    "id": "-F5wxW8AHchm"
   },
   "outputs": [],
   "source": [
    "from sklearn.datasets import make_classification\n",
    "from sklearn.model_selection import train_test_split\n",
    "from sklearn.metrics import accuracy_score\n",
    "from sklearn.tree import DecisionTreeClassifier\n",
    "from matplotlib import pyplot"
   ]
  },
  {
   "cell_type": "code",
   "execution_count": null,
   "metadata": {
    "colab": {
     "base_uri": "https://localhost:8080/",
     "height": 0
    },
    "id": "xdVCRsQqK-J3",
    "outputId": "89c062b0-c873-44b2-c889-0ea3865796d3"
   },
   "outputs": [],
   "source": [
    "from sklearn.datasets import make_classification\n",
    "X,y=make_classification(n_samples=10000, n_features=20, n_informative=5, n_redundant=15, random_state=42)\n",
    "print(X.shape, y.shape)"
   ]
  },
  {
   "cell_type": "markdown",
   "metadata": {
    "id": "Hleqp2v1Mk-2",
    "jp-MarkdownHeadingCollapsed": true
   },
   "source": [
    "## **Splitting synthetic dataset**"
   ]
  },
  {
   "cell_type": "code",
   "execution_count": null,
   "metadata": {
    "id": "u7xqdBHzLYVW"
   },
   "outputs": [],
   "source": [
    "X_train, X_test, y_train, y_test = train_test_split(X, y, test_size=0.3, random_state=42)"
   ]
  },
  {
   "cell_type": "code",
   "execution_count": null,
   "metadata": {
    "id": "tEi_OUwdL94T"
   },
   "outputs": [],
   "source": [
    "clf2 = DecisionTreeClassifier()\n",
    "clf2 = clf2.fit(X_train, y_train)"
   ]
  },
  {
   "cell_type": "code",
   "execution_count": null,
   "metadata": {
    "id": "m3tv8a55M64R"
   },
   "outputs": [],
   "source": [
    "y_preds = clf2.predict(X_test)"
   ]
  },
  {
   "cell_type": "markdown",
   "metadata": {
    "id": "bm9LJRTUPqOK"
   },
   "source": [
    "## **Pruning by changing the depth**"
   ]
  },
  {
   "cell_type": "code",
   "execution_count": null,
   "metadata": {
    "colab": {
     "base_uri": "https://localhost:8080/",
     "height": 0
    },
    "id": "h1w5w5rROF_p",
    "outputId": "34cf6ae8-996d-4e72-dc95-2e06ad22eb47"
   },
   "outputs": [],
   "source": [
    "train_scores,test_scores=list(),list()\n",
    "values = [i for i in range(1,21)]\n",
    "for i in values:\n",
    "  model = DecisionTreeClassifier(max_depth=i)\n",
    "  model.fit(X_train,y_train)\n",
    "  train_yhat=model.predict(X_train)\n",
    "  train_acc = accuracy_score(y_train,train_yhat)\n",
    "\n",
    "  train_scores.append(train_acc)\n",
    "  test_yhat = model.predict(X_test)\n",
    "  test_acc= accuracy_score(y_test,test_yhat)\n",
    "  test_scores.append(test_acc)\n",
    "  print('>%d,train:%.3f,test:%.3f'%(i,train_acc,test_acc))"
   ]
  },
  {
   "cell_type": "markdown",
   "metadata": {
    "id": "c6frhyZmPwul"
   },
   "source": [
    "## **Visualizing Training vs Testing Accuracy**"
   ]
  },
  {
   "cell_type": "code",
   "execution_count": null,
   "metadata": {
    "colab": {
     "base_uri": "https://localhost:8080/",
     "height": 430
    },
    "id": "WVjWi7crPcWf",
    "outputId": "8635c514-3d49-4245-fa1e-02990ae6ac68"
   },
   "outputs": [],
   "source": [
    "pyplot.plot(values,train_scores,'-o',label='Train')\n",
    "pyplot.plot(values,test_scores,'-o',label='Test')\n",
    "pyplot.legend()\n",
    "pyplot.show()"
   ]
  },
  {
   "cell_type": "markdown",
   "metadata": {
    "id": "r-OXl0jmRlnc"
   },
   "source": [
    "When max depth is set to 11, the model gives the best testing accuracy, after which if the depth is increased, the testing accuracy will decrease and training accuracy will increase leading to overfitting."
   ]
  },
  {
   "cell_type": "markdown",
   "metadata": {
    "id": "MzfD7xW7R94r"
   },
   "source": [
    "## **Exploring the dataset**"
   ]
  },
  {
   "cell_type": "code",
   "execution_count": null,
   "metadata": {
    "colab": {
     "base_uri": "https://localhost:8080/",
     "height": 206
    },
    "id": "-63uZKvHPlyu",
    "outputId": "e3e1d172-b14b-465f-b7c1-0160992fe19c"
   },
   "outputs": [],
   "source": [
    "data = pd.read_csv('/content/Breast_cancer_data.csv')\n",
    "data.head()"
   ]
  },
  {
   "cell_type": "code",
   "execution_count": null,
   "metadata": {
    "colab": {
     "base_uri": "https://localhost:8080/",
     "height": 0
    },
    "id": "5HFGMRv7RwWg",
    "outputId": "6a90a7f0-ab8a-4481-a02c-75bb9d28375a"
   },
   "outputs": [],
   "source": [
    "data.info()"
   ]
  },
  {
   "cell_type": "markdown",
   "metadata": {
    "id": "h1F0jEbRSB77"
   },
   "source": [
    "## **Splitting the dataset**"
   ]
  },
  {
   "cell_type": "markdown",
   "metadata": {
    "id": "1tctXmaFRXjl"
   },
   "source": [
    "X = feature variables\n",
    "\n",
    "y = target variable"
   ]
  },
  {
   "cell_type": "code",
   "execution_count": null,
   "metadata": {
    "id": "EwvSEhJ2RxpY"
   },
   "outputs": [],
   "source": [
    "X = data.drop('diagnosis', axis=1)\n",
    "y = data['diagnosis']\n",
    "\n",
    "X_train, X_test, y_train, y_test = train_test_split(X, y, test_size=0.3, random_state=42)"
   ]
  },
  {
   "cell_type": "markdown",
   "metadata": {
    "id": "V6IvNOaDSl1K"
   },
   "source": [
    "## **Fitting the model**"
   ]
  },
  {
   "cell_type": "markdown",
   "metadata": {
    "id": "w63w70YlQ_Fe"
   },
   "source": [
    "Calling the DecisionTreeClassifier instance and storing it in mdl.\n",
    "\n",
    "Then, evaluating the model on testing data"
   ]
  },
  {
   "cell_type": "code",
   "execution_count": null,
   "metadata": {
    "id": "Z37dGwQOSgKb"
   },
   "outputs": [],
   "source": [
    "mdl = DecisionTreeClassifier()\n",
    "mdl = mdl.fit(X_train, y_train)\n",
    "\n",
    "y_preds = mdl.predict(X_test)"
   ]
  },
  {
   "cell_type": "markdown",
   "metadata": {
    "id": "SgMwv5AcTEEg"
   },
   "source": [
    "## **Performance Evaluation**"
   ]
  },
  {
   "cell_type": "code",
   "execution_count": null,
   "metadata": {
    "colab": {
     "base_uri": "https://localhost:8080/",
     "height": 0
    },
    "id": "zqfOWERkS_Ue",
    "outputId": "acd1a1fe-d53c-49ff-d9c1-282bf832ff52"
   },
   "outputs": [],
   "source": [
    "print(sklearn.metrics.classification_report(y_test, y_preds))"
   ]
  },
  {
   "cell_type": "markdown",
   "metadata": {
    "id": "U8D-nQiMTSOP"
   },
   "source": [
    "## **Visualizations**"
   ]
  },
  {
   "cell_type": "markdown",
   "metadata": {
    "id": "ClYTs8QtTs0Q"
   },
   "source": [
    "### **Graph from Gini**"
   ]
  },
  {
   "cell_type": "code",
   "execution_count": null,
   "metadata": {
    "colab": {
     "base_uri": "https://localhost:8080/",
     "height": 367
    },
    "id": "fHviwCS0TGne",
    "outputId": "445ad3ae-ebe6-41c6-f40f-76099178dcba"
   },
   "outputs": [],
   "source": [
    "from sklearn.tree import export_graphviz\n",
    "from IPython.display import Image\n",
    "import pydotplus\n",
    "from sklearn.externals.six import StringIO\n",
    "dot_data=StringIO()\n",
    "export_graphviz(mdl, out_file=dot_data, filled=True,\n",
    "                rounded=True, special_characters=True, class_names=['Iris-sentosa','Iris-virginica','Iris-versicolor'])\n",
    "graph = pydotplus.graph_from_dot_data(dot_data.getvalue())\n",
    "graph.write_png('breast_cancer.png')\n",
    "Image(graph.create_png())"
   ]
  },
  {
   "cell_type": "markdown",
   "metadata": {
    "id": "4p-dItFFU_t5"
   },
   "source": [
    "### **Visualizing Training vs Testing Accuracy**"
   ]
  },
  {
   "cell_type": "code",
   "execution_count": null,
   "metadata": {
    "colab": {
     "base_uri": "https://localhost:8080/",
     "height": 0
    },
    "id": "DhsxrO9qNSPs",
    "outputId": "28baf6d3-617a-42ca-b03f-5b1e149a293e"
   },
   "outputs": [],
   "source": [
    "train_scores, test_scores= list(), list()\n",
    "values = [i for i in range(1,12)]\n",
    "for i in values:\n",
    "  model = DecisionTreeClassifier(max_depth=i)\n",
    "  model.fit(X_train,y_train)\n",
    "  train_yhat=model.predict(X_train)\n",
    "  train_acc = accuracy_score(y_train,train_yhat)\n",
    "\n",
    "  train_scores.append(train_acc)\n",
    "  test_yhat = model.predict(X_test)\n",
    "  test_acc= accuracy_score(y_test,test_yhat)\n",
    "  test_scores.append(test_acc)\n",
    "  print('>%d,train:%.3f,test:%.3f'%(i,train_acc,test_acc))"
   ]
  },
  {
   "cell_type": "code",
   "execution_count": null,
   "metadata": {
    "colab": {
     "base_uri": "https://localhost:8080/",
     "height": 430
    },
    "id": "RQJMgXZaUrZW",
    "outputId": "0d0706d2-2ee6-4089-f08b-f786798ca414"
   },
   "outputs": [],
   "source": [
    "pyplot.plot(values,train_scores,'-o',label='Train')\n",
    "pyplot.plot(values,test_scores,'-o',label='Test')\n",
    "pyplot.legend()\n",
    "pyplot.show()"
   ]
  },
  {
   "cell_type": "markdown",
   "metadata": {
    "id": "rfzeSL1_QQc4"
   },
   "source": [
    "When max depth is set to 6, the model gives the best testing accuracy, after which if the depth is increased, the testing accuracy will decrease and training accuracy will increase leading to overfitting."
   ]
  },
  {
   "cell_type": "markdown",
   "metadata": {
    "id": "JqNZMvcECP7x"
   },
   "source": [
    "# **Implement Decision tree regressor on Dataset 4: Car price prediction**"
   ]
  },
  {
   "cell_type": "code",
   "execution_count": 4,
   "metadata": {},
   "outputs": [],
   "source": [
    "import pandas as pd\n",
    "from sklearn.model_selection import train_test_split\n",
    "from sklearn.tree import DecisionTreeRegressor\n",
    "from sklearn.metrics import mean_squared_error , r2_score\n",
    "import matplotlib.pyplot as plt\n"
   ]
  },
  {
   "cell_type": "code",
   "execution_count": 7,
   "metadata": {
    "id": "uGPXuqbBcrzV"
   },
   "outputs": [],
   "source": [
    "car = pd.read_csv('dataset/carprediction.csv')"
   ]
  },
  {
   "cell_type": "code",
   "execution_count": 8,
   "metadata": {
    "colab": {
     "base_uri": "https://localhost:8080/",
     "height": 434
    },
    "id": "14FJ9mxgdB8W",
    "outputId": "744c5a17-2daf-48e2-8340-2e52926c5a1f"
   },
   "outputs": [
    {
     "data": {
      "text/html": [
       "<div>\n",
       "<style scoped>\n",
       "    .dataframe tbody tr th:only-of-type {\n",
       "        vertical-align: middle;\n",
       "    }\n",
       "\n",
       "    .dataframe tbody tr th {\n",
       "        vertical-align: top;\n",
       "    }\n",
       "\n",
       "    .dataframe thead th {\n",
       "        text-align: right;\n",
       "    }\n",
       "</style>\n",
       "<table border=\"1\" class=\"dataframe\">\n",
       "  <thead>\n",
       "    <tr style=\"text-align: right;\">\n",
       "      <th></th>\n",
       "      <th>Make</th>\n",
       "      <th>Model</th>\n",
       "      <th>Year</th>\n",
       "      <th>Engine Fuel Type</th>\n",
       "      <th>Engine HP</th>\n",
       "      <th>Engine Cylinders</th>\n",
       "      <th>Transmission Type</th>\n",
       "      <th>Driven_Wheels</th>\n",
       "      <th>Number of Doors</th>\n",
       "      <th>Market Category</th>\n",
       "      <th>Vehicle Size</th>\n",
       "      <th>Vehicle Style</th>\n",
       "      <th>highway MPG</th>\n",
       "      <th>city mpg</th>\n",
       "      <th>Popularity</th>\n",
       "      <th>MSRP</th>\n",
       "    </tr>\n",
       "  </thead>\n",
       "  <tbody>\n",
       "    <tr>\n",
       "      <th>0</th>\n",
       "      <td>BMW</td>\n",
       "      <td>1 Series M</td>\n",
       "      <td>2011</td>\n",
       "      <td>premium unleaded (required)</td>\n",
       "      <td>335.0</td>\n",
       "      <td>6.0</td>\n",
       "      <td>MANUAL</td>\n",
       "      <td>rear wheel drive</td>\n",
       "      <td>2.0</td>\n",
       "      <td>Factory Tuner,Luxury,High-Performance</td>\n",
       "      <td>Compact</td>\n",
       "      <td>Coupe</td>\n",
       "      <td>26</td>\n",
       "      <td>19</td>\n",
       "      <td>3916</td>\n",
       "      <td>46135</td>\n",
       "    </tr>\n",
       "    <tr>\n",
       "      <th>1</th>\n",
       "      <td>BMW</td>\n",
       "      <td>1 Series</td>\n",
       "      <td>2011</td>\n",
       "      <td>premium unleaded (required)</td>\n",
       "      <td>300.0</td>\n",
       "      <td>6.0</td>\n",
       "      <td>MANUAL</td>\n",
       "      <td>rear wheel drive</td>\n",
       "      <td>2.0</td>\n",
       "      <td>Luxury,Performance</td>\n",
       "      <td>Compact</td>\n",
       "      <td>Convertible</td>\n",
       "      <td>28</td>\n",
       "      <td>19</td>\n",
       "      <td>3916</td>\n",
       "      <td>40650</td>\n",
       "    </tr>\n",
       "    <tr>\n",
       "      <th>2</th>\n",
       "      <td>BMW</td>\n",
       "      <td>1 Series</td>\n",
       "      <td>2011</td>\n",
       "      <td>premium unleaded (required)</td>\n",
       "      <td>300.0</td>\n",
       "      <td>6.0</td>\n",
       "      <td>MANUAL</td>\n",
       "      <td>rear wheel drive</td>\n",
       "      <td>2.0</td>\n",
       "      <td>Luxury,High-Performance</td>\n",
       "      <td>Compact</td>\n",
       "      <td>Coupe</td>\n",
       "      <td>28</td>\n",
       "      <td>20</td>\n",
       "      <td>3916</td>\n",
       "      <td>36350</td>\n",
       "    </tr>\n",
       "    <tr>\n",
       "      <th>3</th>\n",
       "      <td>BMW</td>\n",
       "      <td>1 Series</td>\n",
       "      <td>2011</td>\n",
       "      <td>premium unleaded (required)</td>\n",
       "      <td>230.0</td>\n",
       "      <td>6.0</td>\n",
       "      <td>MANUAL</td>\n",
       "      <td>rear wheel drive</td>\n",
       "      <td>2.0</td>\n",
       "      <td>Luxury,Performance</td>\n",
       "      <td>Compact</td>\n",
       "      <td>Coupe</td>\n",
       "      <td>28</td>\n",
       "      <td>18</td>\n",
       "      <td>3916</td>\n",
       "      <td>29450</td>\n",
       "    </tr>\n",
       "    <tr>\n",
       "      <th>4</th>\n",
       "      <td>BMW</td>\n",
       "      <td>1 Series</td>\n",
       "      <td>2011</td>\n",
       "      <td>premium unleaded (required)</td>\n",
       "      <td>230.0</td>\n",
       "      <td>6.0</td>\n",
       "      <td>MANUAL</td>\n",
       "      <td>rear wheel drive</td>\n",
       "      <td>2.0</td>\n",
       "      <td>Luxury</td>\n",
       "      <td>Compact</td>\n",
       "      <td>Convertible</td>\n",
       "      <td>28</td>\n",
       "      <td>18</td>\n",
       "      <td>3916</td>\n",
       "      <td>34500</td>\n",
       "    </tr>\n",
       "  </tbody>\n",
       "</table>\n",
       "</div>"
      ],
      "text/plain": [
       "  Make       Model  Year             Engine Fuel Type  Engine HP  \\\n",
       "0  BMW  1 Series M  2011  premium unleaded (required)      335.0   \n",
       "1  BMW    1 Series  2011  premium unleaded (required)      300.0   \n",
       "2  BMW    1 Series  2011  premium unleaded (required)      300.0   \n",
       "3  BMW    1 Series  2011  premium unleaded (required)      230.0   \n",
       "4  BMW    1 Series  2011  premium unleaded (required)      230.0   \n",
       "\n",
       "   Engine Cylinders Transmission Type     Driven_Wheels  Number of Doors  \\\n",
       "0               6.0            MANUAL  rear wheel drive              2.0   \n",
       "1               6.0            MANUAL  rear wheel drive              2.0   \n",
       "2               6.0            MANUAL  rear wheel drive              2.0   \n",
       "3               6.0            MANUAL  rear wheel drive              2.0   \n",
       "4               6.0            MANUAL  rear wheel drive              2.0   \n",
       "\n",
       "                         Market Category Vehicle Size Vehicle Style  \\\n",
       "0  Factory Tuner,Luxury,High-Performance      Compact         Coupe   \n",
       "1                     Luxury,Performance      Compact   Convertible   \n",
       "2                Luxury,High-Performance      Compact         Coupe   \n",
       "3                     Luxury,Performance      Compact         Coupe   \n",
       "4                                 Luxury      Compact   Convertible   \n",
       "\n",
       "   highway MPG  city mpg  Popularity   MSRP  \n",
       "0           26        19        3916  46135  \n",
       "1           28        19        3916  40650  \n",
       "2           28        20        3916  36350  \n",
       "3           28        18        3916  29450  \n",
       "4           28        18        3916  34500  "
      ]
     },
     "execution_count": 8,
     "metadata": {},
     "output_type": "execute_result"
    }
   ],
   "source": [
    "car.head()"
   ]
  },
  {
   "cell_type": "code",
   "execution_count": 23,
   "metadata": {
    "colab": {
     "base_uri": "https://localhost:8080/",
     "height": 0
    },
    "id": "VfLBhSAPD8Ps",
    "outputId": "92a46944-011b-4dde-bac0-ef8dfeb913fa"
   },
   "outputs": [
    {
     "name": "stdout",
     "output_type": "stream",
     "text": [
      "Null values in each column:\n",
      "Year                                0\n",
      "Number of Doors                     0\n",
      "highway MPG                         0\n",
      "city mpg                            0\n",
      "Popularity                          0\n",
      "                                   ..\n",
      "Vehicle Style_Passenger Minivan     0\n",
      "Vehicle Style_Passenger Van         0\n",
      "Vehicle Style_Regular Cab Pickup    0\n",
      "Vehicle Style_Sedan                 0\n",
      "Vehicle Style_Wagon                 0\n",
      "Length: 1007, dtype: int64\n"
     ]
    }
   ],
   "source": [
    "# Checking for null values in each column\n",
    "null_counts = car.isnull().sum()\n",
    "print(\"Null values in each column:\")\n",
    "print(null_counts)"
   ]
  },
  {
   "cell_type": "code",
   "execution_count": 24,
   "metadata": {
    "id": "j-9Jf95JD-x-"
   },
   "outputs": [],
   "source": [
    "car.dropna(inplace=True)"
   ]
  },
  {
   "cell_type": "code",
   "execution_count": 25,
   "metadata": {
    "id": "c0nLUIuHDrPC"
   },
   "outputs": [],
   "source": [
    "car = pd.get_dummies(car)"
   ]
  },
  {
   "cell_type": "code",
   "execution_count": 26,
   "metadata": {
    "colab": {
     "base_uri": "https://localhost:8080/",
     "height": 290
    },
    "id": "crnIfeI8C_Yg",
    "outputId": "65c0feaf-97ec-4610-cde6-4fffcd42ddcb"
   },
   "outputs": [
    {
     "data": {
      "text/html": [
       "<div>\n",
       "<style scoped>\n",
       "    .dataframe tbody tr th:only-of-type {\n",
       "        vertical-align: middle;\n",
       "    }\n",
       "\n",
       "    .dataframe tbody tr th {\n",
       "        vertical-align: top;\n",
       "    }\n",
       "\n",
       "    .dataframe thead th {\n",
       "        text-align: right;\n",
       "    }\n",
       "</style>\n",
       "<table border=\"1\" class=\"dataframe\">\n",
       "  <thead>\n",
       "    <tr style=\"text-align: right;\">\n",
       "      <th></th>\n",
       "      <th>Year</th>\n",
       "      <th>Number of Doors</th>\n",
       "      <th>highway MPG</th>\n",
       "      <th>city mpg</th>\n",
       "      <th>Popularity</th>\n",
       "      <th>MSRP</th>\n",
       "      <th>Make_Acura</th>\n",
       "      <th>Make_Alfa Romeo</th>\n",
       "      <th>Make_Aston Martin</th>\n",
       "      <th>Make_Audi</th>\n",
       "      <th>...</th>\n",
       "      <th>Vehicle Style_Convertible</th>\n",
       "      <th>Vehicle Style_Convertible SUV</th>\n",
       "      <th>Vehicle Style_Coupe</th>\n",
       "      <th>Vehicle Style_Crew Cab Pickup</th>\n",
       "      <th>Vehicle Style_Extended Cab Pickup</th>\n",
       "      <th>Vehicle Style_Passenger Minivan</th>\n",
       "      <th>Vehicle Style_Passenger Van</th>\n",
       "      <th>Vehicle Style_Regular Cab Pickup</th>\n",
       "      <th>Vehicle Style_Sedan</th>\n",
       "      <th>Vehicle Style_Wagon</th>\n",
       "    </tr>\n",
       "  </thead>\n",
       "  <tbody>\n",
       "    <tr>\n",
       "      <th>0</th>\n",
       "      <td>2011</td>\n",
       "      <td>2.0</td>\n",
       "      <td>26</td>\n",
       "      <td>19</td>\n",
       "      <td>3916</td>\n",
       "      <td>46135</td>\n",
       "      <td>False</td>\n",
       "      <td>False</td>\n",
       "      <td>False</td>\n",
       "      <td>False</td>\n",
       "      <td>...</td>\n",
       "      <td>False</td>\n",
       "      <td>False</td>\n",
       "      <td>True</td>\n",
       "      <td>False</td>\n",
       "      <td>False</td>\n",
       "      <td>False</td>\n",
       "      <td>False</td>\n",
       "      <td>False</td>\n",
       "      <td>False</td>\n",
       "      <td>False</td>\n",
       "    </tr>\n",
       "    <tr>\n",
       "      <th>1</th>\n",
       "      <td>2011</td>\n",
       "      <td>2.0</td>\n",
       "      <td>28</td>\n",
       "      <td>19</td>\n",
       "      <td>3916</td>\n",
       "      <td>40650</td>\n",
       "      <td>False</td>\n",
       "      <td>False</td>\n",
       "      <td>False</td>\n",
       "      <td>False</td>\n",
       "      <td>...</td>\n",
       "      <td>True</td>\n",
       "      <td>False</td>\n",
       "      <td>False</td>\n",
       "      <td>False</td>\n",
       "      <td>False</td>\n",
       "      <td>False</td>\n",
       "      <td>False</td>\n",
       "      <td>False</td>\n",
       "      <td>False</td>\n",
       "      <td>False</td>\n",
       "    </tr>\n",
       "    <tr>\n",
       "      <th>2</th>\n",
       "      <td>2011</td>\n",
       "      <td>2.0</td>\n",
       "      <td>28</td>\n",
       "      <td>20</td>\n",
       "      <td>3916</td>\n",
       "      <td>36350</td>\n",
       "      <td>False</td>\n",
       "      <td>False</td>\n",
       "      <td>False</td>\n",
       "      <td>False</td>\n",
       "      <td>...</td>\n",
       "      <td>False</td>\n",
       "      <td>False</td>\n",
       "      <td>True</td>\n",
       "      <td>False</td>\n",
       "      <td>False</td>\n",
       "      <td>False</td>\n",
       "      <td>False</td>\n",
       "      <td>False</td>\n",
       "      <td>False</td>\n",
       "      <td>False</td>\n",
       "    </tr>\n",
       "    <tr>\n",
       "      <th>3</th>\n",
       "      <td>2011</td>\n",
       "      <td>2.0</td>\n",
       "      <td>28</td>\n",
       "      <td>18</td>\n",
       "      <td>3916</td>\n",
       "      <td>29450</td>\n",
       "      <td>False</td>\n",
       "      <td>False</td>\n",
       "      <td>False</td>\n",
       "      <td>False</td>\n",
       "      <td>...</td>\n",
       "      <td>False</td>\n",
       "      <td>False</td>\n",
       "      <td>True</td>\n",
       "      <td>False</td>\n",
       "      <td>False</td>\n",
       "      <td>False</td>\n",
       "      <td>False</td>\n",
       "      <td>False</td>\n",
       "      <td>False</td>\n",
       "      <td>False</td>\n",
       "    </tr>\n",
       "    <tr>\n",
       "      <th>4</th>\n",
       "      <td>2011</td>\n",
       "      <td>2.0</td>\n",
       "      <td>28</td>\n",
       "      <td>18</td>\n",
       "      <td>3916</td>\n",
       "      <td>34500</td>\n",
       "      <td>False</td>\n",
       "      <td>False</td>\n",
       "      <td>False</td>\n",
       "      <td>False</td>\n",
       "      <td>...</td>\n",
       "      <td>True</td>\n",
       "      <td>False</td>\n",
       "      <td>False</td>\n",
       "      <td>False</td>\n",
       "      <td>False</td>\n",
       "      <td>False</td>\n",
       "      <td>False</td>\n",
       "      <td>False</td>\n",
       "      <td>False</td>\n",
       "      <td>False</td>\n",
       "    </tr>\n",
       "  </tbody>\n",
       "</table>\n",
       "<p>5 rows × 1007 columns</p>\n",
       "</div>"
      ],
      "text/plain": [
       "   Year  Number of Doors  highway MPG  city mpg  Popularity   MSRP  \\\n",
       "0  2011              2.0           26        19        3916  46135   \n",
       "1  2011              2.0           28        19        3916  40650   \n",
       "2  2011              2.0           28        20        3916  36350   \n",
       "3  2011              2.0           28        18        3916  29450   \n",
       "4  2011              2.0           28        18        3916  34500   \n",
       "\n",
       "   Make_Acura  Make_Alfa Romeo  Make_Aston Martin  Make_Audi  ...  \\\n",
       "0       False            False              False      False  ...   \n",
       "1       False            False              False      False  ...   \n",
       "2       False            False              False      False  ...   \n",
       "3       False            False              False      False  ...   \n",
       "4       False            False              False      False  ...   \n",
       "\n",
       "   Vehicle Style_Convertible  Vehicle Style_Convertible SUV  \\\n",
       "0                      False                          False   \n",
       "1                       True                          False   \n",
       "2                      False                          False   \n",
       "3                      False                          False   \n",
       "4                       True                          False   \n",
       "\n",
       "   Vehicle Style_Coupe  Vehicle Style_Crew Cab Pickup  \\\n",
       "0                 True                          False   \n",
       "1                False                          False   \n",
       "2                 True                          False   \n",
       "3                 True                          False   \n",
       "4                False                          False   \n",
       "\n",
       "   Vehicle Style_Extended Cab Pickup  Vehicle Style_Passenger Minivan  \\\n",
       "0                              False                            False   \n",
       "1                              False                            False   \n",
       "2                              False                            False   \n",
       "3                              False                            False   \n",
       "4                              False                            False   \n",
       "\n",
       "   Vehicle Style_Passenger Van  Vehicle Style_Regular Cab Pickup  \\\n",
       "0                        False                             False   \n",
       "1                        False                             False   \n",
       "2                        False                             False   \n",
       "3                        False                             False   \n",
       "4                        False                             False   \n",
       "\n",
       "   Vehicle Style_Sedan  Vehicle Style_Wagon  \n",
       "0                False                False  \n",
       "1                False                False  \n",
       "2                False                False  \n",
       "3                False                False  \n",
       "4                False                False  \n",
       "\n",
       "[5 rows x 1007 columns]"
      ]
     },
     "execution_count": 26,
     "metadata": {},
     "output_type": "execute_result"
    }
   ],
   "source": [
    "car.head()"
   ]
  },
  {
   "cell_type": "code",
   "execution_count": 28,
   "metadata": {
    "id": "m5nkQD5dCxV-"
   },
   "outputs": [],
   "source": [
    "X = car.drop('MSRP', axis=1)\n",
    "y = car['MSRP']"
   ]
  },
  {
   "cell_type": "code",
   "execution_count": 29,
   "metadata": {
    "id": "zqpmgk71DMGZ"
   },
   "outputs": [],
   "source": [
    "train_X, test_X, train_y, test_y = train_test_split(X,y,test_size = 0.3, random_state=2)"
   ]
  },
  {
   "cell_type": "code",
   "execution_count": 30,
   "metadata": {
    "id": "-BU8VDCRDUA6"
   },
   "outputs": [],
   "source": [
    "from sklearn.tree import DecisionTreeRegressor\n",
    "car_test = DecisionTreeRegressor()\n"
   ]
  },
  {
   "cell_type": "code",
   "execution_count": 31,
   "metadata": {
    "id": "v0cw4lb4Dqyw"
   },
   "outputs": [],
   "source": [
    "car_test = car_test.fit(train_X,train_y)"
   ]
  },
  {
   "cell_type": "code",
   "execution_count": 32,
   "metadata": {
    "id": "va5LA5JkDx3A"
   },
   "outputs": [],
   "source": [
    "y_pred = car_test.predict(test_X)"
   ]
  },
  {
   "cell_type": "code",
   "execution_count": 33,
   "metadata": {
    "colab": {
     "base_uri": "https://localhost:8080/",
     "height": 0
    },
    "id": "1p9yEuVVD3M_",
    "outputId": "d380130d-efca-4a43-f5f1-fa2b634ba331"
   },
   "outputs": [
    {
     "name": "stdout",
     "output_type": "stream",
     "text": [
      "Mean Absolute Error: 4509.037111650326\n",
      "Mean Squared Error: 569464046.2351987\n",
      "R-squared: 0.8419841677972704\n"
     ]
    }
   ],
   "source": [
    "from sklearn.metrics import mean_squared_error, r2_score, mean_absolute_error\n",
    "print(\"Mean Absolute Error:\", mean_absolute_error(test_y, y_pred))\n",
    "print(\"Mean Squared Error:\", mean_squared_error(test_y, y_pred))\n",
    "print(\"R-squared:\", r2_score(test_y, y_pred))"
   ]
  },
  {
   "cell_type": "code",
   "execution_count": 34,
   "metadata": {
    "colab": {
     "base_uri": "https://localhost:8080/",
     "height": 0
    },
    "id": "AlQtGIGeEe6R",
    "outputId": "9e58bb76-5dfc-4478-f5b7-540137d9c96f"
   },
   "outputs": [
    {
     "name": "stdout",
     "output_type": "stream",
     "text": [
      "Max Depth 1: Train R2 = 0.226, Test R2 = 0.154\n",
      "Max Depth 2: Train R2 = 0.422, Test R2 = 0.338\n",
      "Max Depth 3: Train R2 = 0.656, Test R2 = 0.566\n",
      "Max Depth 4: Train R2 = 0.774, Test R2 = 0.606\n",
      "Max Depth 5: Train R2 = 0.822, Test R2 = 0.674\n",
      "Max Depth 6: Train R2 = 0.856, Test R2 = 0.699\n",
      "Max Depth 7: Train R2 = 0.898, Test R2 = 0.768\n",
      "Max Depth 8: Train R2 = 0.933, Test R2 = 0.777\n",
      "Max Depth 9: Train R2 = 0.954, Test R2 = 0.815\n",
      "Max Depth 10: Train R2 = 0.970, Test R2 = 0.830\n",
      "Max Depth 11: Train R2 = 0.977, Test R2 = 0.839\n",
      "Max Depth 12: Train R2 = 0.983, Test R2 = 0.854\n",
      "Max Depth 13: Train R2 = 0.987, Test R2 = 0.839\n",
      "Max Depth 14: Train R2 = 0.989, Test R2 = 0.833\n",
      "Max Depth 15: Train R2 = 0.991, Test R2 = 0.848\n",
      "Max Depth 16: Train R2 = 0.992, Test R2 = 0.838\n",
      "Max Depth 17: Train R2 = 0.993, Test R2 = 0.837\n",
      "Max Depth 18: Train R2 = 0.994, Test R2 = 0.843\n",
      "Max Depth 19: Train R2 = 0.995, Test R2 = 0.842\n",
      "Max Depth 20: Train R2 = 0.995, Test R2 = 0.836\n"
     ]
    }
   ],
   "source": [
    "train_score, test_score = [], []\n",
    "for i in range(1, 21):\n",
    "    model = DecisionTreeRegressor(max_depth=i)\n",
    "    model.fit(train_X, train_y)\n",
    "    train_score.append(r2_score(train_y, model.predict(train_X)))\n",
    "    test_score.append(r2_score(test_y, model.predict(test_X)))\n",
    "    print(f'Max Depth {i}: Train R2 = {train_score[-1]:.3f}, Test R2 = {test_score[-1]:.3f}')"
   ]
  },
  {
   "cell_type": "code",
   "execution_count": 35,
   "metadata": {
    "colab": {
     "base_uri": "https://localhost:8080/",
     "height": 430
    },
    "id": "Y4GT_JZcHZGo",
    "outputId": "b3a02477-4564-46d2-a4cf-a23116e692d8"
   },
   "outputs": [
    {
     "data": {
      "image/png": "[encoded data removed]",
      "text/plain": [
       "<Figure size 640x480 with 1 Axes>"
      ]
     },
     "metadata": {},
     "output_type": "display_data"
    }
   ],
   "source": [
    "plt.plot(train_score, \"-o\")\n",
    "plt.plot(test_score, \"-o\")\n",
    "plt.show()"
   ]
  },
  {
   "cell_type": "markdown",
   "metadata": {
    "id": "201YvMzKM1O7"
   },
   "source": [
    "The graph suggests that the decision tree model is overfitting when the max depth is set to values higher than 10. This means the model is becoming too complex and is memorizing the training data, which will lead to poor performance on unseen data."
   ]
  }
 ],
 "metadata": {
  "colab": {
   "provenance": []
  },
  "kernelspec": {
   "display_name": "Python 3 (ipykernel)",
   "language": "python",
   "name": "python3"
  },
  "language_info": {
   "codemirror_mode": {
    "name": "ipython",
    "version": 3
   },
   "file_extension": ".py",
   "mimetype": "text/x-python",
   "name": "python",
   "nbconvert_exporter": "python",
   "pygments_lexer": "ipython3",
   "version": "3.11.7"
  }
 },
 "nbformat": 4,
 "nbformat_minor": 4
}
